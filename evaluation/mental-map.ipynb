{
 "cells": [
  {
   "cell_type": "code",
   "execution_count": 1,
   "metadata": {},
   "outputs": [],
   "source": [
    "import os\n",
    "import glob\n",
    "import humap\n",
    "import numpy as np\n",
    "import pandas as pd\n",
    "import matplotlib.pyplot as plt\n",
    "\n",
    "import pandas as pd\n",
    "\n",
    "from tqdm.notebook import tqdm\n",
    "\n",
    "\n",
    "def load_parquet(parquet_path):\n",
    "    return pd.read_parquet(parquet_path)\n",
    "\n",
    "def print_parquet_data(data):\n",
    "    for _, row in data.iterrows():\n",
    "        print(\"Title:\", row['title'])\n",
    "        print(\"Embedding:\", row['embeddings'], type(['embeddings']))\n",
    "        print(\"DOI:\", row['doi'])\n",
    "        print()\n",
    "        break\n",
    "\n",
    "def read_arxiv_titles(sample_size=500_000):\n",
    "\n",
    "    directory_path = os.path.dirname(os.path.abspath('./../'))\n",
    "    print(directory_path)\n",
    "    arxiv_titles = []\n",
    "    arxiv_embeddings = []\n",
    "    for file_path in tqdm(glob.glob(os.path.join(directory_path, 'arxiv_titles/titles_*.parquet'))):\n",
    "        data = pd.read_parquet(file_path)\n",
    "        for _, row in data.iterrows():\n",
    "            arxiv_titles.append(row['title'])\n",
    "            arxiv_embeddings.append(row['embeddings'])\n",
    "\n",
    "    indices = np.random.choice(len(arxiv_embeddings), sample_size, replace=False)\n",
    "\n",
    "    embeddings = np.array(arxiv_embeddings)[indices, :]\n",
    "    prompts = pd.DataFrame({'prompt': np.array(arxiv_titles)[indices]})\n",
    "    \n",
    "    \n",
    "    return embeddings, prompts\n",
    "    \n",
    "if not os.path.exists(\"use-case-dataset\"):\n",
    "    os.mkdir(\"use-case-dataset\")\n",
    "\n",
    "    dataset, dataset_prompts = read_arxiv_titles()\n",
    "    \n",
    "    np.save(\"use-case-dataset/use_case_embeddings.npy\", dataset)\n",
    "    dataset_prompts.to_csv(\"use-case-dataset/prompts.csv\", index=False)\n",
    "else:\n",
    "    dataset = np.load(\"use-case-dataset/use_case_embeddings.npy\")\n",
    "    dataset_prompts = pd.read_csv(\"use-case-dataset/prompts.csv\")"
   ]
  },
  {
   "cell_type": "code",
   "execution_count": 2,
   "metadata": {},
   "outputs": [],
   "source": [
    "from sklearn.cluster import KMeans\n",
    "\n",
    "def plot_with_mpl(x, y, s, c, alpha=0.3):\n",
    "\n",
    "    plt.figure()\n",
    "    plt.scatter(x, y, c=c, alpha=alpha, s=s, cmap=\"tab10\", edgecolor=\"none\")\n",
    "    plt.axis(\"off\")\n",
    "    plt.gca().set_aspect(\"equal\")\n",
    "    plt.show()\n",
    "\n",
    "def get_sample_docs(x, y, docs, num_docs=10):\n",
    "    dataset = np.vstack((x,y)).T\n",
    "    \n",
    "    km = KMeans(random_state=0, n_clusters=num_docs).fit(dataset)\n",
    "    representatives = []\n",
    "    for k in range(num_docs):\n",
    "        center = km.cluster_centers_[k]\n",
    "        \n",
    "        min_dist = float('inf') \n",
    "        min_point = None\n",
    "        for i, point in enumerate(dataset):\n",
    "            if min_dist > np.linalg.norm(point-center):\n",
    "                min_dist = np.linalg.norm(point-center)\n",
    "                min_point = i\n",
    "        representatives.append(docs[min_point])\n",
    "\n",
    "    return representatives\n",
    "        \n",
    "    # indices = np.random.choice(len(docs), num_docs if len(docs) >= num_docs else len(docs), replace=False)\n",
    "    # return docs[indices]   \n",
    "    \n",
    "def prepare_data(x, y, influence, klass, documents):\n",
    "    df = pd.DataFrame({\n",
    "        \"x\": x,\n",
    "        \"y\": y,\n",
    "        \"influence\": influence,\n",
    "        \"klass\": klass,\n",
    "        \"documents\": documents\n",
    "    })\n",
    "    return df"
   ]
  },
  {
   "cell_type": "code",
   "execution_count": 3,
   "metadata": {},
   "outputs": [
    {
     "data": {
      "text/plain": [
       "((500000, 768), (500000, 1))"
      ]
     },
     "execution_count": 3,
     "metadata": {},
     "output_type": "execute_result"
    }
   ],
   "source": [
    "dataset.shape, dataset_prompts.shape"
   ]
  },
  {
   "cell_type": "code",
   "execution_count": 4,
   "metadata": {
    "scrolled": true
   },
   "outputs": [
    {
     "data": {
      "text/html": [
       "<div>\n",
       "<style scoped>\n",
       "    .dataframe tbody tr th:only-of-type {\n",
       "        vertical-align: middle;\n",
       "    }\n",
       "\n",
       "    .dataframe tbody tr th {\n",
       "        vertical-align: top;\n",
       "    }\n",
       "\n",
       "    .dataframe thead th {\n",
       "        text-align: right;\n",
       "    }\n",
       "</style>\n",
       "<table border=\"1\" class=\"dataframe\">\n",
       "  <thead>\n",
       "    <tr style=\"text-align: right;\">\n",
       "      <th></th>\n",
       "      <th>prompt</th>\n",
       "    </tr>\n",
       "  </thead>\n",
       "  <tbody>\n",
       "    <tr>\n",
       "      <th>0</th>\n",
       "      <td>Communities in C.elegans connectome through th...</td>\n",
       "    </tr>\n",
       "    <tr>\n",
       "      <th>1</th>\n",
       "      <td>Coded Computing for Federated Learning at the ...</td>\n",
       "    </tr>\n",
       "    <tr>\n",
       "      <th>2</th>\n",
       "      <td>SRF-GAN: Super-Resolved Feature GAN for Multi-...</td>\n",
       "    </tr>\n",
       "    <tr>\n",
       "      <th>3</th>\n",
       "      <td>The NASA/IPAC Teacher Archive Research Program...</td>\n",
       "    </tr>\n",
       "    <tr>\n",
       "      <th>4</th>\n",
       "      <td>Modeling Risk via Realized HYGARCH Model</td>\n",
       "    </tr>\n",
       "  </tbody>\n",
       "</table>\n",
       "</div>"
      ],
      "text/plain": [
       "                                              prompt\n",
       "0  Communities in C.elegans connectome through th...\n",
       "1  Coded Computing for Federated Learning at the ...\n",
       "2  SRF-GAN: Super-Resolved Feature GAN for Multi-...\n",
       "3  The NASA/IPAC Teacher Archive Research Program...\n",
       "4           Modeling Risk via Realized HYGARCH Model"
      ]
     },
     "execution_count": 4,
     "metadata": {},
     "output_type": "execute_result"
    }
   ],
   "source": [
    "dataset_prompts.head()"
   ]
  },
  {
   "cell_type": "code",
   "execution_count": 5,
   "metadata": {},
   "outputs": [],
   "source": [
    "from sklearn.preprocessing import normalize\n",
    "\n",
    "dataset = normalize(dataset)"
   ]
  },
  {
   "cell_type": "code",
   "execution_count": null,
   "metadata": {},
   "outputs": [],
   "source": [
    "reducer = humap.HUMAP(np.array([0.2, 0.2]), init=\"Random\", verbose=True, knn_algorithm=\"HNSW\")\n",
    "reducer.fit(dataset)"
   ]
  },
  {
   "cell_type": "code",
   "execution_count": null,
   "metadata": {},
   "outputs": [],
   "source": [
    "indices_2 = reducer.original_indices(2)\n",
    "indices_1 = reducer.original_indices(1)\n",
    "indices_0 = np.arange(len(dataset)).astype(np.int_)"
   ]
  },
  {
   "cell_type": "code",
   "execution_count": null,
   "metadata": {},
   "outputs": [],
   "source": [
    "embeddings2 = reducer.transform(2)"
   ]
  },
  {
   "cell_type": "code",
   "execution_count": null,
   "metadata": {},
   "outputs": [],
   "source": [
    "df_2 = prepare_data(embeddings2[:, 0], embeddings2[:, 1], reducer.influence(2), np.zeros(embeddings2.shape[0]), dataset_prompts.loc[indices_2]['prompt'].values)"
   ]
  },
  {
   "cell_type": "code",
   "execution_count": null,
   "metadata": {},
   "outputs": [],
   "source": [
    "import jscatter\n",
    "\n",
    "scatter = jscatter.Scatter(data=df_2, x='x', y='y', opacity=0.3)\n",
    "scatter.color(by='klass')\n",
    "scatter.size(by='influence', map=[4, 50])\n",
    "scatter.height(860)\n",
    "scatter.width(1020)\n",
    "scatter.show()"
   ]
  },
  {
   "cell_type": "code",
   "execution_count": 12,
   "metadata": {},
   "outputs": [
    {
     "data": {
      "text/plain": [
       "['Imagine a long Poem, where Serena Williams stumble upon a bleak xenon in Fukuoka, with dialogue and atmosphere inspired by P.D. James.',\n",
       " 'Compose a long Poem set in Húsavík, where a ashamed tectonic encounters Benjamin Franklin, inspired by the works of Gertrude Stein.',\n",
       " 'Compose a Poem set in Húsavík, where a cooked tectonic encounters Steve Jobs, inspired by the works of Bram Stoker.',\n",
       " 'Imagine a Poem, where Charlie Chaplin stumble upon a embellished lilac in Montreal, with dialogue and atmosphere inspired by Hilary Mantel.',\n",
       " 'Imagine a long Poem, where Frank Sinatra stumble upon a far nymph in Fukuoka, with dialogue and atmosphere inspired by Shakespeare.',\n",
       " 'Craft a Poem in which Thomas Hobbes explore Jyväskylä and come across a far xenon, with literary elements drawn from Sigrid Undset.',\n",
       " 'Create a Poem in which Sophocles encounter a feisty kiosk while traversing Jyväskylä, drawing inspiration from Sigrid Undset.',\n",
       " 'Compose a long Poem set in Hanoi, where a devoted lilac encounters Steve Jobs, inspired by the works of Heinrich Böll.',\n",
       " 'Imagine a long Poem, where Frank Sinatra stumble upon a cooked xenon in Varanasi, with dialogue and atmosphere inspired by Karel Čapek.',\n",
       " 'Create a Poem in which Marie Curie encounter a faint xenon while traversing Shanghai, drawing inspiration from Gertrude Stein.']"
      ]
     },
     "execution_count": 12,
     "metadata": {},
     "output_type": "execute_result"
    }
   ],
   "source": [
    "get_sample_docs(df_2.loc[scatter.selection()]['x'].values, df_2.loc[scatter.selection()]['y'].values,\n",
    "                df_2.loc[scatter.selection()]['documents'].values, num_docs=10)"
   ]
  },
  {
   "cell_type": "code",
   "execution_count": 13,
   "metadata": {},
   "outputs": [],
   "source": [
    "reducer.set_fixing_term(0.01)\n",
    "indices_selected = scatter.selection()\n",
    "points_selected = embeddings2[indices_selected]\n",
    "reducer.fix_datapoints(points_selected)\n",
    "\n",
    "embedding_cluster1, y_cluster1, indices_cluster1, indices_fixed = reducer.transform(2, indices=indices_selected)"
   ]
  },
  {
   "cell_type": "code",
   "execution_count": 14,
   "metadata": {},
   "outputs": [],
   "source": [
    "\n",
    "indices_prompt = indices_1[indices_cluster1]\n",
    "df_1_selected = prepare_data(embedding_cluster1[:, 0], embedding_cluster1[:, 1], reducer.influence_selected(), \n",
    "                             np.zeros(embedding_cluster1.shape[0]), dataset_prompts.loc[indices_prompt]['prompt'].values)"
   ]
  },
  {
   "cell_type": "code",
   "execution_count": 15,
   "metadata": {},
   "outputs": [
    {
     "data": {
      "application/vnd.jupyter.widget-view+json": {
       "model_id": "802a7de179f340a88be78dd863a97899",
       "version_major": 2,
       "version_minor": 0
      },
      "text/plain": [
       "HBox(children=(VBox(children=(Button(button_style='primary', icon='arrows', layout=Layout(width='36px'), style…"
      ]
     },
     "execution_count": 15,
     "metadata": {},
     "output_type": "execute_result"
    }
   ],
   "source": [
    "scatter1 = jscatter.Scatter(data=df_1_selected, x='x', y='y', opacity=0.3)\n",
    "# scatter1.legend(True)\n",
    "scatter1.color(by='klass')\n",
    "scatter1.size(by='influence', map=[4, 50])\n",
    "scatter1.height(860)\n",
    "scatter1.width(1020)\n",
    "scatter1.show()"
   ]
  },
  {
   "cell_type": "code",
   "execution_count": 16,
   "metadata": {},
   "outputs": [
    {
     "data": {
      "text/plain": [
       "['Create a Poem in which Thomas Hobbes encounter a bleak orchard while traversing Hanoi, drawing inspiration from Boris Pasternak.',\n",
       " 'Write a Poem that follows the adventures of Marie Curie in Petra as they seek a devoted xenon',\n",
       " 'Create a Poem in which Steve Jobs encounter a feisty elevator while traversing Montreal, drawing inspiration from Shakespeare.',\n",
       " 'Imagine a Poem, where Elon Musk stumble upon a bashful orchard in Tashkent, with dialogue and atmosphere inspired by Arto Paasilinna.',\n",
       " 'Write me a Poem about a content xenon who meets Pyotr Ilyich Tchaikovsky in Húsavík in the style of Sigrid Undset',\n",
       " 'Create a Poem in which Franz Kafka encounter a ashamed ball while traversing Húsavík, drawing inspiration from Heinrich Böll.',\n",
       " 'Weave a Poem where Serena Williams uncovers a feisty ball in Varanasi, emulating the style of Vladimir Nabokov.',\n",
       " 'Imagine a long Poem, where Dr. Seuss stumble upon a ashamed cup in Jyväskylä, with dialogue and atmosphere inspired by Boris Pasternak.',\n",
       " 'Create a Poem in which Charlie Chaplin encounter a bashful orchard while traversing Kaunas, drawing inspiration from Karel Čapek.',\n",
       " 'Create a long Poem in which Frank Sinatra encounter a content orchard while traversing Jyväskylä, drawing inspiration from Vladimir Nabokov.']"
      ]
     },
     "execution_count": 16,
     "metadata": {},
     "output_type": "execute_result"
    }
   ],
   "source": [
    "get_sample_docs(df_1_selected.loc[scatter1.selection()]['x'].values, df_1_selected.loc[scatter1.selection()]['y'].values,\n",
    "                 df_1_selected.loc[scatter1.selection()]['documents'].values, num_docs=10)"
   ]
  },
  {
   "cell_type": "code",
   "execution_count": 100,
   "metadata": {},
   "outputs": [
    {
     "data": {
      "text/html": [
       "<div>\n",
       "<style scoped>\n",
       "    .dataframe tbody tr th:only-of-type {\n",
       "        vertical-align: middle;\n",
       "    }\n",
       "\n",
       "    .dataframe tbody tr th {\n",
       "        vertical-align: top;\n",
       "    }\n",
       "\n",
       "    .dataframe thead th {\n",
       "        text-align: right;\n",
       "    }\n",
       "</style>\n",
       "<table border=\"1\" class=\"dataframe\">\n",
       "  <thead>\n",
       "    <tr style=\"text-align: right;\">\n",
       "      <th></th>\n",
       "      <th>x</th>\n",
       "      <th>y</th>\n",
       "      <th>influence</th>\n",
       "      <th>klass</th>\n",
       "      <th>documents</th>\n",
       "    </tr>\n",
       "  </thead>\n",
       "  <tbody>\n",
       "    <tr>\n",
       "      <th>159</th>\n",
       "      <td>4.653402</td>\n",
       "      <td>0.459190</td>\n",
       "      <td>5</td>\n",
       "      <td>0.0</td>\n",
       "      <td>&lt;p&gt;I am developing a storm topology locally. I...</td>\n",
       "    </tr>\n",
       "    <tr>\n",
       "      <th>1537</th>\n",
       "      <td>5.478681</td>\n",
       "      <td>0.452874</td>\n",
       "      <td>7</td>\n",
       "      <td>0.0</td>\n",
       "      <td>&lt;p&gt;I may have discovered one of the problems i...</td>\n",
       "    </tr>\n",
       "    <tr>\n",
       "      <th>1213</th>\n",
       "      <td>6.036171</td>\n",
       "      <td>2.741712</td>\n",
       "      <td>1</td>\n",
       "      <td>0.0</td>\n",
       "      <td>&lt;p&gt;&lt;strong&gt;Background&lt;/strong&gt;&lt;/p&gt;\\n&lt;p&gt;I'm a n...</td>\n",
       "    </tr>\n",
       "    <tr>\n",
       "      <th>4483</th>\n",
       "      <td>6.511709</td>\n",
       "      <td>1.812715</td>\n",
       "      <td>2</td>\n",
       "      <td>0.0</td>\n",
       "      <td>&lt;p&gt;Suppose I have this table:&lt;/p&gt;\\n\\n&lt;pre&gt;&lt;cod...</td>\n",
       "    </tr>\n",
       "    <tr>\n",
       "      <th>1328</th>\n",
       "      <td>6.382285</td>\n",
       "      <td>2.222886</td>\n",
       "      <td>3</td>\n",
       "      <td>0.0</td>\n",
       "      <td>&lt;p&gt;For every version of Eclipse I've used prio...</td>\n",
       "    </tr>\n",
       "    <tr>\n",
       "      <th>...</th>\n",
       "      <td>...</td>\n",
       "      <td>...</td>\n",
       "      <td>...</td>\n",
       "      <td>...</td>\n",
       "      <td>...</td>\n",
       "    </tr>\n",
       "    <tr>\n",
       "      <th>381</th>\n",
       "      <td>1.068406</td>\n",
       "      <td>-0.357208</td>\n",
       "      <td>1</td>\n",
       "      <td>0.0</td>\n",
       "      <td>&lt;p&gt;Is it possible to automate Log Shipping Fai...</td>\n",
       "    </tr>\n",
       "    <tr>\n",
       "      <th>4084</th>\n",
       "      <td>0.925639</td>\n",
       "      <td>-0.337113</td>\n",
       "      <td>7</td>\n",
       "      <td>0.0</td>\n",
       "      <td>&lt;p&gt;I have some sql that I want to pass into a ...</td>\n",
       "    </tr>\n",
       "    <tr>\n",
       "      <th>4681</th>\n",
       "      <td>0.969436</td>\n",
       "      <td>-0.341389</td>\n",
       "      <td>5</td>\n",
       "      <td>0.0</td>\n",
       "      <td>What are the advantages of using a solar panel...</td>\n",
       "    </tr>\n",
       "    <tr>\n",
       "      <th>1658</th>\n",
       "      <td>0.993729</td>\n",
       "      <td>-0.353595</td>\n",
       "      <td>1</td>\n",
       "      <td>0.0</td>\n",
       "      <td>&lt;p&gt;I am using Java ProcessBuilder to pass a St...</td>\n",
       "    </tr>\n",
       "    <tr>\n",
       "      <th>1592</th>\n",
       "      <td>0.973993</td>\n",
       "      <td>-0.332419</td>\n",
       "      <td>1</td>\n",
       "      <td>0.0</td>\n",
       "      <td>&lt;p&gt;Let's say I have the following PostgreSQL t...</td>\n",
       "    </tr>\n",
       "  </tbody>\n",
       "</table>\n",
       "<p>4621 rows × 5 columns</p>\n",
       "</div>"
      ],
      "text/plain": [
       "             x         y  influence  klass  \\\n",
       "159   4.653402  0.459190          5    0.0   \n",
       "1537  5.478681  0.452874          7    0.0   \n",
       "1213  6.036171  2.741712          1    0.0   \n",
       "4483  6.511709  1.812715          2    0.0   \n",
       "1328  6.382285  2.222886          3    0.0   \n",
       "...        ...       ...        ...    ...   \n",
       "381   1.068406 -0.357208          1    0.0   \n",
       "4084  0.925639 -0.337113          7    0.0   \n",
       "4681  0.969436 -0.341389          5    0.0   \n",
       "1658  0.993729 -0.353595          1    0.0   \n",
       "1592  0.973993 -0.332419          1    0.0   \n",
       "\n",
       "                                              documents  \n",
       "159   <p>I am developing a storm topology locally. I...  \n",
       "1537  <p>I may have discovered one of the problems i...  \n",
       "1213  <p><strong>Background</strong></p>\\n<p>I'm a n...  \n",
       "4483  <p>Suppose I have this table:</p>\\n\\n<pre><cod...  \n",
       "1328  <p>For every version of Eclipse I've used prio...  \n",
       "...                                                 ...  \n",
       "381   <p>Is it possible to automate Log Shipping Fai...  \n",
       "4084  <p>I have some sql that I want to pass into a ...  \n",
       "4681  What are the advantages of using a solar panel...  \n",
       "1658  <p>I am using Java ProcessBuilder to pass a St...  \n",
       "1592  <p>Let's say I have the following PostgreSQL t...  \n",
       "\n",
       "[4621 rows x 5 columns]"
      ]
     },
     "execution_count": 100,
     "metadata": {},
     "output_type": "execute_result"
    }
   ],
   "source": []
  },
  {
   "cell_type": "code",
   "execution_count": null,
   "metadata": {},
   "outputs": [],
   "source": []
  }
 ],
 "metadata": {
  "kernelspec": {
   "display_name": "Python 3 (ipykernel)",
   "language": "python",
   "name": "python3"
  },
  "language_info": {
   "codemirror_mode": {
    "name": "ipython",
    "version": 3
   },
   "file_extension": ".py",
   "mimetype": "text/x-python",
   "name": "python",
   "nbconvert_exporter": "python",
   "pygments_lexer": "ipython3",
   "version": "3.11.5"
  }
 },
 "nbformat": 4,
 "nbformat_minor": 4
}
